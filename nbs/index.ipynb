{
 "cells": [
  {
   "cell_type": "markdown",
   "metadata": {},
   "source": [
    "# learn_algo\n",
    "\n",
    "> Notes on algorithms"
   ]
  },
  {
   "cell_type": "markdown",
   "metadata": {},
   "source": [
    "This will serve as a quick revision and repo of all algorithms which I intend to master."
   ]
  },
  {
   "cell_type": "markdown",
   "metadata": {},
   "source": [
    "## Exponent"
   ]
  },
  {
   "cell_type": "markdown",
   "metadata": {},
   "source": [
    "Write a program to implement $n^k$."
   ]
  },
  {
   "cell_type": "markdown",
   "metadata": {},
   "source": [
    "### Iterative approach"
   ]
  },
  {
   "cell_type": "markdown",
   "metadata": {},
   "source": [
    "First is a simple iterative approach."
   ]
  },
  {
   "cell_type": "code",
   "execution_count": null,
   "metadata": {},
   "outputs": [],
   "source": [
    "def pow(n,k):\n",
    "    res=1\n",
    "    for _ in range(k):\n",
    "        res*=n\n",
    "    return res"
   ]
  },
  {
   "cell_type": "code",
   "execution_count": null,
   "metadata": {},
   "outputs": [],
   "source": [
    "assert pow(2,5)==32"
   ]
  },
  {
   "cell_type": "markdown",
   "metadata": {},
   "source": [
    "### Recursive approach"
   ]
  },
  {
   "cell_type": "markdown",
   "metadata": {},
   "source": [
    "The key is to realize that $n^k$ can be expressed as sequence of squaring operations. For ex:\n",
    "\n",
    "\\begin{equation}\n",
    "n^9=((n^2)^2)^2 \\times n\n",
    "\\end{equation}"
   ]
  },
  {
   "cell_type": "markdown",
   "metadata": {},
   "source": [
    "We divide the exponent ($k$) by $2$, if we get an even number we divide by $2$ again, if we get an odd number we multiply by the number and continue the process with $k-1$."
   ]
  },
  {
   "cell_type": "code",
   "execution_count": null,
   "metadata": {},
   "outputs": [],
   "source": [
    "def pow(n,k):\n",
    "    if k==1: return n\n",
    "    return pow(n,k//2) * pow(n, k//2) if k%2==0 else n * pow(n, k-1)"
   ]
  },
  {
   "cell_type": "code",
   "execution_count": null,
   "metadata": {},
   "outputs": [],
   "source": [
    "assert pow(2,5)==2**5\n",
    "assert pow(3,5)==3**5"
   ]
  },
  {
   "cell_type": "markdown",
   "metadata": {},
   "source": [
    "### Recursive implemented using a stack"
   ]
  },
  {
   "cell_type": "markdown",
   "metadata": {},
   "source": [
    "Any recursive function can be represented as an iterative one with a stack data structure. Which is what is happening in the recursive one."
   ]
  },
  {
   "cell_type": "code",
   "execution_count": null,
   "metadata": {},
   "outputs": [],
   "source": [
    "def pow(n,k):\n",
    "    op_stack=[]\n",
    "    res=n\n",
    "    # Create the stack\n",
    "    while k>1:\n",
    "        if k%2==0:\n",
    "            op_stack.append('square')\n",
    "            k=k//2\n",
    "        else:\n",
    "            op_stack.append('multiply')\n",
    "            k-=1\n",
    "    # Unravel the stack\n",
    "    while op_stack:\n",
    "        op=op_stack.pop()\n",
    "        if op=='square':\n",
    "            res=res*res\n",
    "        else:\n",
    "            res*=n\n",
    "    return res"
   ]
  },
  {
   "cell_type": "code",
   "execution_count": null,
   "metadata": {},
   "outputs": [],
   "source": [
    "assert pow(2,10)==2**10"
   ]
  },
  {
   "cell_type": "markdown",
   "metadata": {},
   "source": [
    "## CanSum"
   ]
  },
  {
   "cell_type": "markdown",
   "metadata": {},
   "source": [
    "### Vanilla version with recursion"
   ]
  },
  {
   "cell_type": "code",
   "execution_count": null,
   "metadata": {},
   "outputs": [],
   "source": [
    "def can_sum(target,nums):\n",
    "    if target==0: return True\n",
    "    if target<0: return False\n",
    "    for num in nums:\n",
    "        if can_sum(target-num, nums):\n",
    "            return True\n",
    "    return False"
   ]
  },
  {
   "cell_type": "markdown",
   "metadata": {},
   "source": [
    "Given a target and list of numbers write a function which determines whether the target can be obtained by summing numbers from the list. "
   ]
  },
  {
   "cell_type": "code",
   "execution_count": null,
   "metadata": {},
   "outputs": [],
   "source": [
    "assert can_sum(7, (2,3))\n",
    "assert not can_sum(13, [2,4,6])"
   ]
  },
  {
   "cell_type": "markdown",
   "metadata": {},
   "source": [
    "The trick is to return immediately as soon as target becomes 0. This return passes all the way to the top call and function returns `True`. However if after looping over all the numbers in the list, no solution is found, we return `False`."
   ]
  },
  {
   "cell_type": "markdown",
   "metadata": {},
   "source": [
    "The time complexity of `can_sum` is $O(n^m)$ where `n` is the target and `m` is the length of `nums`. The following example highlights this."
   ]
  },
  {
   "cell_type": "code",
   "execution_count": null,
   "metadata": {},
   "outputs": [],
   "source": [
    "# can_sum(250, [7,14])"
   ]
  },
  {
   "cell_type": "markdown",
   "metadata": {},
   "source": [
    "### Recursion with memoization"
   ]
  },
  {
   "cell_type": "code",
   "execution_count": null,
   "metadata": {},
   "outputs": [],
   "source": [
    "def can_sum(target,nums,memo={}):\n",
    "    if target in memo: return memo[target]\n",
    "    if target==0: return True\n",
    "    if target<0: return False\n",
    "    for num in nums: \n",
    "        if can_sum(target-num,nums,memo):\n",
    "            memo[target]=True\n",
    "            return True\n",
    "    memo[target]=False\n",
    "    return False"
   ]
  },
  {
   "cell_type": "markdown",
   "metadata": {},
   "source": [
    "Memoization makes the call to `can_sum(250, [7,14])` which previously took way too long super fast."
   ]
  },
  {
   "cell_type": "code",
   "execution_count": null,
   "metadata": {},
   "outputs": [
    {
     "data": {
      "text/plain": [
       "False"
      ]
     },
     "execution_count": null,
     "metadata": {},
     "output_type": "execute_result"
    }
   ],
   "source": [
    "can_sum(250, [7,14])"
   ]
  },
  {
   "cell_type": "markdown",
   "metadata": {},
   "source": [
    "## How sum"
   ]
  },
  {
   "cell_type": "markdown",
   "metadata": {},
   "source": [
    "Given a target and list of numbers return a subset which sums to the target. All numbers are positive and a give number from the list can be used multiple times.\n",
    "\n",
    "If the numbers cannot be summed to target, return None."
   ]
  },
  {
   "cell_type": "code",
   "execution_count": null,
   "metadata": {},
   "outputs": [],
   "source": [
    "def how_sum_memo(target,nums,memo={}):\n",
    "    if target in memo: return memo[target]\n",
    "    if target==0: return []\n",
    "    if target<0: return None\n",
    "    for num in nums:\n",
    "        res=how_sum_memo(target-num, nums, memo)\n",
    "        if isinstance(res,list):\n",
    "            res.append(num)\n",
    "            memo[target]=res\n",
    "            return res\n",
    "    memo[target]=None\n",
    "    return None"
   ]
  },
  {
   "cell_type": "code",
   "execution_count": null,
   "metadata": {},
   "outputs": [
    {
     "name": "stdout",
     "output_type": "stream",
     "text": [
      "CPU times: user 39 µs, sys: 4 µs, total: 43 µs\n",
      "Wall time: 47.9 µs\n"
     ]
    }
   ],
   "source": [
    "%%time \n",
    "how_sum_memo(200, [7,14])"
   ]
  },
  {
   "cell_type": "markdown",
   "metadata": {},
   "source": [
    "## All sums"
   ]
  },
  {
   "cell_type": "markdown",
   "metadata": {},
   "source": [
    "Given a target and a list of numbers, return a list of all subsets which sum to this target. Multiple usage of a number is permitted. "
   ]
  },
  {
   "cell_type": "code",
   "execution_count": null,
   "metadata": {},
   "outputs": [],
   "source": [
    "def all_sums(target,nums):\n",
    "    if target==0: return [[]]\n",
    "    if target<0: return []\n",
    "    sol=[]\n",
    "    for num in nums:\n",
    "        res=all_sums(target-num, nums)\n",
    "        if len(res)>=1:\n",
    "            for l in res:\n",
    "                l.append(num)\n",
    "            sol+=res\n",
    "    return sol"
   ]
  },
  {
   "cell_type": "code",
   "execution_count": null,
   "metadata": {},
   "outputs": [
    {
     "data": {
      "text/plain": [
       "[[3, 2], [2, 3]]"
      ]
     },
     "execution_count": null,
     "metadata": {},
     "output_type": "execute_result"
    }
   ],
   "source": [
    "all_sums(5, [2,3])"
   ]
  },
  {
   "cell_type": "markdown",
   "metadata": {},
   "source": [
    "## Best sums"
   ]
  },
  {
   "cell_type": "markdown",
   "metadata": {},
   "source": [
    "Given a target and a list of numbers, return the subset that sums to target and has the least number of elements in it."
   ]
  },
  {
   "cell_type": "code",
   "execution_count": null,
   "metadata": {},
   "outputs": [],
   "source": [
    "def best_sum(target,nums):\n",
    "    if target==0: return []\n",
    "    if target<0: return None\n",
    "    sol=None\n",
    "    for num in nums:\n",
    "        res=best_sum(target-num,nums)\n",
    "        if isinstance(res,list):\n",
    "            res.append(num)\n",
    "            if (sol is None) or (len(res) < len(sol)):\n",
    "                sol=res\n",
    "    return sol"
   ]
  },
  {
   "cell_type": "code",
   "execution_count": null,
   "metadata": {},
   "outputs": [
    {
     "data": {
      "text/plain": [
       "[7]"
      ]
     },
     "execution_count": null,
     "metadata": {},
     "output_type": "execute_result"
    }
   ],
   "source": [
    "best_sum(7,[1,3,7])"
   ]
  },
  {
   "cell_type": "markdown",
   "metadata": {},
   "source": [
    "## Can construct"
   ]
  },
  {
   "cell_type": "markdown",
   "metadata": {},
   "source": [
    "Write a function `canConstruct(target, wordBank)` that accepts target string and an array of strings.\n",
    "The function should return a boolean indicating whether or not the `target` can be constructed by concatenating elements of the wordBank array.\n",
    "You may reuse elements of wordBank as many times as needed."
   ]
  },
  {
   "cell_type": "code",
   "execution_count": null,
   "metadata": {},
   "outputs": [],
   "source": [
    "def can_construct(target, words):\n",
    "    if target=='': return True\n",
    "    for word in words:\n",
    "        if target.startswith(word):\n",
    "            return can_construct(target[len(word):], words)\n",
    "    return False"
   ]
  },
  {
   "cell_type": "code",
   "execution_count": null,
   "metadata": {},
   "outputs": [
    {
     "data": {
      "text/plain": [
       "True"
      ]
     },
     "execution_count": null,
     "metadata": {},
     "output_type": "execute_result"
    }
   ],
   "source": [
    "can_construct('abcd', ['ab', 'bc', 'cd'])"
   ]
  },
  {
   "cell_type": "code",
   "execution_count": null,
   "metadata": {},
   "outputs": [
    {
     "data": {
      "text/plain": [
       "True"
      ]
     },
     "execution_count": null,
     "metadata": {},
     "output_type": "execute_result"
    }
   ],
   "source": [
    "can_construct(\"\", [\"f\"])"
   ]
  },
  {
   "cell_type": "code",
   "execution_count": null,
   "metadata": {},
   "outputs": [
    {
     "data": {
      "text/plain": [
       "True"
      ]
     },
     "execution_count": null,
     "metadata": {},
     "output_type": "execute_result"
    }
   ],
   "source": [
    "can_construct('ffffffffffffffffffffffd', ['f','fff','fffff', 'd'])"
   ]
  },
  {
   "cell_type": "markdown",
   "metadata": {},
   "source": [
    "## Count construct"
   ]
  },
  {
   "cell_type": "markdown",
   "metadata": {},
   "source": [
    "Write a function `countConstruct(target, wordBank)` that accepts a target string and an array of strings. The function should return the number of ways that the target can be constructed by concatenating elements of the wordBank array.\n",
    "\n",
    "You may reuse elements of wordBank as many times as needed."
   ]
  },
  {
   "cell_type": "code",
   "execution_count": null,
   "metadata": {},
   "outputs": [],
   "source": [
    "def count_construct(target, words):\n",
    "    if target=='': return 1\n",
    "    res=0\n",
    "    for word in words:\n",
    "        if target.startswith(word):\n",
    "            res += count_construct(target[len(word):], words)\n",
    "    return res"
   ]
  },
  {
   "cell_type": "code",
   "execution_count": null,
   "metadata": {},
   "outputs": [
    {
     "data": {
      "text/plain": [
       "1"
      ]
     },
     "execution_count": null,
     "metadata": {},
     "output_type": "execute_result"
    }
   ],
   "source": [
    "count_construct('abcdef', ['ab', 'abc', 'cd', 'def', 'abcd'])"
   ]
  },
  {
   "cell_type": "code",
   "execution_count": null,
   "metadata": {},
   "outputs": [
    {
     "data": {
      "text/plain": [
       "2"
      ]
     },
     "execution_count": null,
     "metadata": {},
     "output_type": "execute_result"
    }
   ],
   "source": [
    "count_construct('purple', ['purp', 'p', 'ur', 'le', 'purpl'])"
   ]
  },
  {
   "cell_type": "markdown",
   "metadata": {},
   "source": [
    "## All construct"
   ]
  },
  {
   "cell_type": "markdown",
   "metadata": {},
   "source": [
    "Given a target string and list of substrings, return all the set of substrings which can be concatenated to create the target. \n",
    "\n",
    "Multiple usage of substrings is permitted."
   ]
  },
  {
   "cell_type": "code",
   "execution_count": null,
   "metadata": {},
   "outputs": [],
   "source": [
    "def all_construct(target, subs):\n",
    "    if target=='': return [[]]\n",
    "    sol=[]\n",
    "    for sub in subs:\n",
    "        if target.startswith(sub):\n",
    "            res=all_construct(target[len(sub):], subs)\n",
    "            if len(res)>=1:\n",
    "                for l in res:\n",
    "                    l.append(sub)\n",
    "                sol+=res\n",
    "    return sol\n"
   ]
  },
  {
   "cell_type": "code",
   "execution_count": null,
   "metadata": {},
   "outputs": [
    {
     "data": {
      "text/plain": [
       "[['bc', 'a'], ['c', 'ab']]"
      ]
     },
     "execution_count": null,
     "metadata": {},
     "output_type": "execute_result"
    }
   ],
   "source": [
    "all_construct('abc',['a','bc', 'ab', 'c'])"
   ]
  }
 ],
 "metadata": {
  "kernelspec": {
   "display_name": "python3",
   "language": "python",
   "name": "python3"
  }
 },
 "nbformat": 4,
 "nbformat_minor": 4
}
