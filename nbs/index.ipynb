{
 "cells": [
  {
   "cell_type": "markdown",
   "metadata": {},
   "source": [
    "# learn_algo\n",
    "\n",
    "> Notes on algorithms"
   ]
  },
  {
   "cell_type": "markdown",
   "metadata": {},
   "source": [
    "This will serve as a quick revision and repo of all algorithms which I intend to master."
   ]
  },
  {
   "cell_type": "markdown",
   "metadata": {},
   "source": [
    "## 1. Exponent"
   ]
  },
  {
   "cell_type": "markdown",
   "metadata": {},
   "source": [
    "Write a program to implement $n^k$."
   ]
  },
  {
   "cell_type": "markdown",
   "metadata": {},
   "source": [
    "First is a simple iterative approach."
   ]
  },
  {
   "cell_type": "markdown",
   "metadata": {},
   "source": [
    "### Iterative approach"
   ]
  },
  {
   "cell_type": "code",
   "execution_count": 18,
   "metadata": {},
   "outputs": [],
   "source": [
    "def pow(n,k):\n",
    "    res=1\n",
    "    for _ in range(k):\n",
    "        res*=n\n",
    "    return res"
   ]
  },
  {
   "cell_type": "code",
   "execution_count": 19,
   "metadata": {},
   "outputs": [],
   "source": [
    "assert pow(2,5)==32"
   ]
  },
  {
   "cell_type": "markdown",
   "metadata": {},
   "source": [
    "### Recursive approach"
   ]
  },
  {
   "cell_type": "markdown",
   "metadata": {},
   "source": [
    "The key is to realize that $n^k$ can be expressed as sequence of squaring operations. For ex:\n",
    "\n",
    "\\begin{equation}\n",
    "n^9=((n^2)^2)^2 \\times n\n",
    "\\end{equation}"
   ]
  },
  {
   "cell_type": "markdown",
   "metadata": {},
   "source": [
    "We divide the exponent ($k$) by $2$, if we get an even number we divide by $2$ again, if we get an odd number we multiply by the number and continue the process with $k-1$."
   ]
  },
  {
   "cell_type": "code",
   "execution_count": 20,
   "metadata": {},
   "outputs": [],
   "source": [
    "def pow(n,k):\n",
    "    if k==1: return n\n",
    "    return pow(n,k//2) * pow(n, k//2) if k%2==0 else n * pow(n, k-1)"
   ]
  },
  {
   "cell_type": "code",
   "execution_count": 21,
   "metadata": {},
   "outputs": [],
   "source": [
    "assert pow(2,5)==2**5\n",
    "assert pow(3,5)==3**5"
   ]
  },
  {
   "cell_type": "markdown",
   "metadata": {},
   "source": [
    "### Recursive implemented using a stack"
   ]
  },
  {
   "cell_type": "markdown",
   "metadata": {},
   "source": [
    "Any recursive function can be represented as an iterative one with a stack data structure. Which is what is happening in the recursive one."
   ]
  },
  {
   "cell_type": "code",
   "execution_count": 22,
   "metadata": {},
   "outputs": [],
   "source": [
    "def pow(n,k):\n",
    "    op_stack=[]\n",
    "    res=n\n",
    "    # Create the stack\n",
    "    while k>1:\n",
    "        if k%2==0:\n",
    "            op_stack.append('square')\n",
    "            k=k//2\n",
    "        else:\n",
    "            op_stack.append('multiply')\n",
    "            k-=1\n",
    "    # Unravel the stack\n",
    "    while op_stack:\n",
    "        op=op_stack.pop()\n",
    "        if op=='square':\n",
    "            res=res*res\n",
    "        else:\n",
    "            res*=n\n",
    "    return res"
   ]
  },
  {
   "cell_type": "code",
   "execution_count": 23,
   "metadata": {},
   "outputs": [],
   "source": [
    "assert pow(2,10)==2**10"
   ]
  }
 ],
 "metadata": {
  "kernelspec": {
   "display_name": "python3",
   "language": "python",
   "name": "python3"
  },
  "language_info": {
   "codemirror_mode": {
    "name": "ipython",
    "version": 3
   },
   "file_extension": ".py",
   "mimetype": "text/x-python",
   "name": "python",
   "nbconvert_exporter": "python",
   "pygments_lexer": "ipython3",
   "version": "3.10.12"
  }
 },
 "nbformat": 4,
 "nbformat_minor": 4
}
